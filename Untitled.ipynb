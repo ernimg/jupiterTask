{
 "cells": [
  {
   "cell_type": "code",
   "execution_count": 28,
   "id": "d2234203-d1f1-47f1-8908-fcc9b47c044e",
   "metadata": {},
   "outputs": [],
   "source": [
    "# import the desired packages\n",
    "import pandapower\n",
    "import pandapower.networks\n",
    "import pandapower.topology\n",
    "import pandapower.plotting\n",
    "import pandapower.converter\n",
    "import pandapower.estimation\n",
    "import pandapower as pp\n",
    "import copy"
   ]
  },
  {
   "cell_type": "code",
   "execution_count": 29,
   "id": "68b678f7-7d0a-467c-bd8d-38462a7ae463",
   "metadata": {},
   "outputs": [],
   "source": [
    "#create empty net\n",
    "net = pp.create_empty_network() "
   ]
  },
  {
   "cell_type": "code",
   "execution_count": 30,
   "id": "ed8e9aa1-be91-4d13-a21c-e5ffe43da499",
   "metadata": {},
   "outputs": [],
   "source": [
    "#create buses\n",
    "b1 = pp.create_bus(net, vn_kv=20., name=\"Bus 1\")\n",
    "b2 = pp.create_bus(net, vn_kv=0.4, name=\"Bus 2\")\n",
    "b3 = pp.create_bus(net, vn_kv=0.4, name=\"Bus 3\")"
   ]
  },
  {
   "cell_type": "code",
   "execution_count": 31,
   "id": "25f0e6a8-66bb-40ac-8ae3-4be917edd298",
   "metadata": {},
   "outputs": [],
   "source": [
    "#create bus elements\n",
    "pp.create_ext_grid(net, bus=b1, vm_pu=1.02, name=\"Grid Connection\")\n",
    "pp.create_load(net, bus=b3, p_mw=0.1, q_mvar=0.05, name=\"Load\");"
   ]
  },
  {
   "cell_type": "code",
   "execution_count": 32,
   "id": "42a8e4b7-4804-415d-a27f-3151309a7b1d",
   "metadata": {},
   "outputs": [],
   "source": [
    "#create bus elements\n",
    "pp.create_ext_grid(net, bus=b1, vm_pu=1.02, name=\"Grid Connection\")\n",
    "pp.create_load(net, bus=b3, p_mw=0.1, q_mvar=0.05, name=\"Load\");"
   ]
  },
  {
   "cell_type": "code",
   "execution_count": 33,
   "id": "5682f172-b7f6-48a2-8b07-ee765bf28173",
   "metadata": {},
   "outputs": [
    {
     "data": {
      "text/plain": [
       "This pandapower network includes the following parameter tables:\n",
       "   - bus (3 elements)\n",
       "   - load (2 elements)\n",
       "   - ext_grid (2 elements)"
      ]
     },
     "execution_count": 33,
     "metadata": {},
     "output_type": "execute_result"
    }
   ],
   "source": [
    "net"
   ]
  },
  {
   "cell_type": "code",
   "execution_count": 34,
   "id": "3eb54032-5796-4c65-a50a-8ea4a1817eeb",
   "metadata": {},
   "outputs": [
    {
     "data": {
      "text/html": [
       "<div>\n",
       "<style scoped>\n",
       "    .dataframe tbody tr th:only-of-type {\n",
       "        vertical-align: middle;\n",
       "    }\n",
       "\n",
       "    .dataframe tbody tr th {\n",
       "        vertical-align: top;\n",
       "    }\n",
       "\n",
       "    .dataframe thead th {\n",
       "        text-align: right;\n",
       "    }\n",
       "</style>\n",
       "<table border=\"1\" class=\"dataframe\">\n",
       "  <thead>\n",
       "    <tr style=\"text-align: right;\">\n",
       "      <th></th>\n",
       "      <th>name</th>\n",
       "      <th>vn_kv</th>\n",
       "      <th>type</th>\n",
       "      <th>zone</th>\n",
       "      <th>in_service</th>\n",
       "      <th>geo</th>\n",
       "    </tr>\n",
       "  </thead>\n",
       "  <tbody>\n",
       "    <tr>\n",
       "      <th>0</th>\n",
       "      <td>Bus 1</td>\n",
       "      <td>20.0</td>\n",
       "      <td>b</td>\n",
       "      <td>None</td>\n",
       "      <td>True</td>\n",
       "      <td>None</td>\n",
       "    </tr>\n",
       "    <tr>\n",
       "      <th>1</th>\n",
       "      <td>Bus 2</td>\n",
       "      <td>0.4</td>\n",
       "      <td>b</td>\n",
       "      <td>None</td>\n",
       "      <td>True</td>\n",
       "      <td>None</td>\n",
       "    </tr>\n",
       "    <tr>\n",
       "      <th>2</th>\n",
       "      <td>Bus 3</td>\n",
       "      <td>0.4</td>\n",
       "      <td>b</td>\n",
       "      <td>None</td>\n",
       "      <td>True</td>\n",
       "      <td>None</td>\n",
       "    </tr>\n",
       "  </tbody>\n",
       "</table>\n",
       "</div>"
      ],
      "text/plain": [
       "    name  vn_kv type  zone  in_service   geo\n",
       "0  Bus 1   20.0    b  None        True  None\n",
       "1  Bus 2    0.4    b  None        True  None\n",
       "2  Bus 3    0.4    b  None        True  None"
      ]
     },
     "execution_count": 34,
     "metadata": {},
     "output_type": "execute_result"
    }
   ],
   "source": [
    "net.bus "
   ]
  },
  {
   "cell_type": "code",
   "execution_count": 35,
   "id": "05b828e8-6cb5-496e-bf47-0f9378582e7a",
   "metadata": {},
   "outputs": [
    {
     "data": {
      "text/html": [
       "<div>\n",
       "<style scoped>\n",
       "    .dataframe tbody tr th:only-of-type {\n",
       "        vertical-align: middle;\n",
       "    }\n",
       "\n",
       "    .dataframe tbody tr th {\n",
       "        vertical-align: top;\n",
       "    }\n",
       "\n",
       "    .dataframe thead th {\n",
       "        text-align: right;\n",
       "    }\n",
       "</style>\n",
       "<table border=\"1\" class=\"dataframe\">\n",
       "  <thead>\n",
       "    <tr style=\"text-align: right;\">\n",
       "      <th></th>\n",
       "      <th>name</th>\n",
       "      <th>std_type</th>\n",
       "      <th>from_bus</th>\n",
       "      <th>to_bus</th>\n",
       "      <th>length_km</th>\n",
       "      <th>r_ohm_per_km</th>\n",
       "      <th>x_ohm_per_km</th>\n",
       "      <th>c_nf_per_km</th>\n",
       "      <th>g_us_per_km</th>\n",
       "      <th>max_i_ka</th>\n",
       "      <th>df</th>\n",
       "      <th>parallel</th>\n",
       "      <th>type</th>\n",
       "      <th>in_service</th>\n",
       "      <th>geo</th>\n",
       "    </tr>\n",
       "  </thead>\n",
       "  <tbody>\n",
       "  </tbody>\n",
       "</table>\n",
       "</div>"
      ],
      "text/plain": [
       "Empty DataFrame\n",
       "Columns: [name, std_type, from_bus, to_bus, length_km, r_ohm_per_km, x_ohm_per_km, c_nf_per_km, g_us_per_km, max_i_ka, df, parallel, type, in_service, geo]\n",
       "Index: []"
      ]
     },
     "execution_count": 35,
     "metadata": {},
     "output_type": "execute_result"
    }
   ],
   "source": [
    "net.line"
   ]
  },
  {
   "cell_type": "code",
   "execution_count": 36,
   "id": "db758b69-2b74-443e-aea4-7308e1747d54",
   "metadata": {},
   "outputs": [
    {
     "name": "stderr",
     "output_type": "stream",
     "text": [
      "numba cannot be imported and numba functions are disabled.\n",
      "Probably the execution is slow.\n",
      "Please install numba to gain a massive speedup.\n",
      "(or if you prefer slow execution, set the flag numba=False to avoid this warning!)\n"
     ]
    }
   ],
   "source": [
    "pp.runpp(net)"
   ]
  },
  {
   "cell_type": "code",
   "execution_count": 37,
   "id": "6b191fc7-8c4d-4a29-8139-64ea2b072b89",
   "metadata": {},
   "outputs": [
    {
     "data": {
      "text/html": [
       "<div>\n",
       "<style scoped>\n",
       "    .dataframe tbody tr th:only-of-type {\n",
       "        vertical-align: middle;\n",
       "    }\n",
       "\n",
       "    .dataframe tbody tr th {\n",
       "        vertical-align: top;\n",
       "    }\n",
       "\n",
       "    .dataframe thead th {\n",
       "        text-align: right;\n",
       "    }\n",
       "</style>\n",
       "<table border=\"1\" class=\"dataframe\">\n",
       "  <thead>\n",
       "    <tr style=\"text-align: right;\">\n",
       "      <th></th>\n",
       "      <th>p_from_mw</th>\n",
       "      <th>q_from_mvar</th>\n",
       "      <th>p_to_mw</th>\n",
       "      <th>q_to_mvar</th>\n",
       "      <th>pl_mw</th>\n",
       "      <th>ql_mvar</th>\n",
       "    </tr>\n",
       "  </thead>\n",
       "  <tbody>\n",
       "  </tbody>\n",
       "</table>\n",
       "</div>"
      ],
      "text/plain": [
       "Empty DataFrame\n",
       "Columns: [p_from_mw, q_from_mvar, p_to_mw, q_to_mvar, pl_mw, ql_mvar]\n",
       "Index: []"
      ]
     },
     "execution_count": 37,
     "metadata": {},
     "output_type": "execute_result"
    }
   ],
   "source": [
    "# show the power flow and losses in the lines\n",
    "net.res_line.iloc[:,0:6]"
   ]
  },
  {
   "cell_type": "code",
   "execution_count": 38,
   "id": "5b6dbfe9-bb50-44e0-8d71-731e232102ab",
   "metadata": {},
   "outputs": [
    {
     "name": "stdout",
     "output_type": "stream",
     "text": [
      "Linia 2 nie została poprawnie dodana do sieci.\n"
     ]
    }
   ],
   "source": [
    "# ====================================================\n",
    "# Zadanie 1: Srawdzenie wartości lini 2\n",
    "# ====================================================\n",
    "# Zakładamy, że Linia 2 ma indeks 1 w tabeli net.res_line\n",
    "if len(net.res_line) > 1:\n",
    "    pl_line_2 = net.res_line[\"pl_mw\"].iloc[1]\n",
    "    print(\"Straty mocy (pl_mw) dla Linii 2:\", pl_line_2)\n",
    "else:\n",
    "    print(\"Linia 2 nie została poprawnie dodana do sieci.\")"
   ]
  },
  {
   "cell_type": "code",
   "execution_count": 41,
   "id": "95123c86-2515-477c-8753-64ba0826766c",
   "metadata": {},
   "outputs": [
    {
     "name": "stderr",
     "output_type": "stream",
     "text": [
      "numba cannot be imported and numba functions are disabled.\n",
      "Probably the execution is slow.\n",
      "Please install numba to gain a massive speedup.\n",
      "(or if you prefer slow execution, set the flag numba=False to avoid this warning!)\n"
     ]
    },
    {
     "name": "stdout",
     "output_type": "stream",
     "text": [
      "   p_from_mw  q_from_mvar    p_to_mw   q_to_mvar      pl_mw   ql_mvar\n",
      "0        0.0     0.000000   0.000000    0.000000   0.000000  0.000000\n",
      "1        0.0     0.000000   0.000000    0.000000   0.000000  0.000000\n",
      "2        0.2  -471.082035  22.879184  479.951953  23.079184  8.869917\n",
      "0.0\n"
     ]
    }
   ],
   "source": [
    "# ====================================================\n",
    "# Zadanie 2: Rozbudowa sieci do konfiguracji 6-busowej\n",
    "# ====================================================\n",
    "\n",
    "# Wskazówka: \n",
    "# Aby to zrobić, dodaj pomarańczowy region do istniejącej sieci. \n",
    "# Do sieci należy dodać jeszcze dwie magistrale obciążeniowe (jedną 400 V i jedną 700 V) oraz jeszcze jedną magistralę generatora (20 kV). \n",
    "# Generator można dodać za pomocą pp.create_gen(). \n",
    "# Nowe obciążenia są identyczne z obciążeniem na magistrali 3, z tą różnicą, że obciążenie 6 ma o połowę mniejsze zużycie energii (p_mw). \n",
    "# Generator ma p_mw mocy wyjściowej 0,2 MW i vm_pu napięcia 1,0 pu. Nie zapomnij podłączyć nowych autobusów za pomocą. \n",
    "# Uruchom ponownie przepływ mocy, wykonując polecenie runpp.\n",
    "\n",
    "\n",
    "#task2 \n",
    "\n",
    "# Dodaj nowe busy\n",
    "b4 = pp.create_bus(net, vn_kv=20., name=\"Bus 4\")\n",
    "b5 = pp.create_bus(net, vn_kv=0.4, name=\"Bus 5\")\n",
    "b6 = pp.create_bus(net, vn_kv=0.7, name=\"Bus 6\")\n",
    "\n",
    "# Dodaj nowy generator\n",
    "pp.create_gen(net, bus=b4, p_mw=0.2, vm_pu=1.0, name=\"Generator 2\")\n",
    "\n",
    "# Dodaj nowe obciążenia\n",
    "pp.create_load(net, bus=b5, p_mw=0.1, q_mvar=0.05, name=\"Load 2\")\n",
    "pp.create_load(net, bus=b6, p_mw=0.05, q_mvar=0.025, name=\"Load 3\")\n",
    "\n",
    "# Dodaj nowe linie\n",
    "pp.create_line(net, from_bus=b2, to_bus=b5, length_km=0.15, name=\"Line 3\", std_type=\"NAYY 4x150 SE\")\n",
    "pp.create_line(net, from_bus=b5, to_bus=b6, length_km=0.1, name=\"Line 4\", std_type=\"NAYY 4x150 SE\")\n",
    "pp.create_line(net, from_bus=b4, to_bus=b1, length_km=0.2, name=\"Line 5\", std_type=\"NAYY 4x150 SE\")\n",
    "\n",
    "# Uruchom symulację przepływu mocy\n",
    "pp.runpp(net)\n",
    "\n",
    "# Wyświetl wyniki\n",
    "print(net.res_line.iloc[:, 0:6])\n",
    "#sprawdzenie pomoedzy bus 2 a bus 3\n",
    "print(net.res_line.loc[1, 'pl_mw'])"
   ]
  },
  {
   "cell_type": "code",
   "execution_count": null,
   "id": "48d78659-a0e9-4ad1-a642-30064c25d311",
   "metadata": {},
   "outputs": [
    {
     "name": "stdout",
     "output_type": "stream",
     "text": [
      "              name  bus  p_mw  vm_pu  sn_mva  min_q_mvar  max_q_mvar  scaling  \\\n",
      "0  Generator Bus 4    3   0.2    1.0     NaN         NaN         NaN      1.0   \n",
      "\n",
      "   slack  in_service  slack_weight  type  \n",
      "0  False        True           0.0  None  \n",
      "Wyniki dla Opcji 1 (zmiana vm_pu generatora):\n",
      "   p_from_mw  q_from_mvar   p_to_mw  q_to_mvar     pl_mw   ql_mvar  i_from_ka  \\\n",
      "0  -0.047199     0.119309  0.047201  -0.126133  0.000002 -0.006824   0.003631   \n",
      "1   0.050410     0.025156 -0.050000  -0.025000  0.000410  0.000156   0.081030   \n",
      "\n",
      "    i_to_ka      i_ka  vm_from_pu  va_from_degree  vm_to_pu  va_to_degree  \\\n",
      "0  0.003812  0.003812    1.020000        0.000000   1.02000      0.000807   \n",
      "1  0.046303  0.081030    1.003543     -151.081715   0.99576   -151.038717   \n",
      "\n",
      "   loading_percent  \n",
      "0         1.411669  \n",
      "1        30.011076  \n",
      "Obecne linie:\n",
      "     name       std_type  from_bus  to_bus  length_km  r_ohm_per_km  \\\n",
      "0  Line 3  NAYY 4x150 SE         0       3        0.2         0.208   \n",
      "1  Line 4  NAYY 4x150 SE         4       5        0.1         0.208   \n",
      "\n",
      "   x_ohm_per_km  c_nf_per_km  g_us_per_km  max_i_ka   df  parallel type  \\\n",
      "0          0.08        261.0          0.0      0.27  1.0         1   cs   \n",
      "1          0.08        261.0          0.0      0.27  1.0         1   cs   \n",
      "\n",
      "   in_service  \n",
      "0        True  \n",
      "1        True  \n",
      "Linia do usunięcia:\n",
      "     name       std_type  from_bus  to_bus  length_km  r_ohm_per_km  \\\n",
      "0  Line 3  NAYY 4x150 SE         0       3        0.2         0.208   \n",
      "\n",
      "   x_ohm_per_km  c_nf_per_km  g_us_per_km  max_i_ka   df  parallel type  \\\n",
      "0          0.08        261.0          0.0      0.27  1.0         1   cs   \n",
      "\n",
      "   in_service  \n",
      "0        True  \n",
      "Wyniki dla Opcji 2 (usunięcie linii między Bus 1 a Bus 4):\n",
      "   p_from_mw  q_from_mvar  p_to_mw  q_to_mvar  pl_mw  ql_mvar  i_from_ka  \\\n",
      "1        0.0          0.0      0.0        0.0    0.0      0.0        NaN   \n",
      "\n",
      "   i_to_ka  i_ka  vm_from_pu  va_from_degree  vm_to_pu  va_to_degree  \\\n",
      "1      NaN   NaN         NaN             NaN       NaN           NaN   \n",
      "\n",
      "   loading_percent  \n",
      "1              NaN  \n"
     ]
    }
   ],
   "source": [
    "# ====================================================\n",
    "# Zadanie 3: Optymalizacja sieci – Porównanie dwóch opcji\n",
    "# ====================================================\n",
    "\n",
    "#opcja1\n",
    "\n",
    "# Skopiuj sieć, aby nie modyfikować oryginału\n",
    "network_option1 = copy.deepcopy(net)\n",
    "\n",
    "# Sprawdź tabelę generatorów, aby znaleźć indeks generatora na szynie 4\n",
    "# (domyślnie generator z Zadania 2 ma indeks 0)\n",
    "print(\"Tabela generatorów:\")\n",
    "print(network_option1.gen)\n",
    "\n",
    "# Zmień napięcie generatora na 1.02 pu (dopasowanie do sieci zewnętrznej)\n",
    "network_option1.gen.at[0, 'vm_pu'] = 1.02  # 0 to indeks generatora\n",
    "\n",
    "# Przeprowadź symulację przepływu mocy\n",
    "pp.runpp(network_option1)\n",
    "\n",
    "# Wyświetl straty mocy i obciążenie linii\n",
    "print(\"\\nWyniki po zmianie napięcia generatora:\")\n",
    "print(network_option1.res_line[['pl_mw', 'loading_percent']])\n",
    "\n",
    "\n",
    "#opcja2\n",
    "\n",
    "\n",
    "# Skopiuj sieć, aby nie modyfikować oryginału\n",
    "network_option2 = copy.deepcopy(net)\n",
    "\n",
    "# Sprawdź tabelę linii, aby znaleźć indeks linii między szyną 1 a 4\n",
    "# Szyna 1 ma nazwę \"Bus 1\", szyna 4 – \"Bus 4\"\n",
    "print(\"Tabela linii:\")\n",
    "print(network_option2.line[['from_bus', 'to_bus', 'name']])\n",
    "\n",
    "# Usuń linię o indeksie 4 (przykładowo, jeśli nazywa się \"Line 5\")\n",
    "pp.drop_lines(network_option2, [4])  # 4 to indeks linii\n",
    "\n",
    "# Przeprowadź symulację przepływu mocy\n",
    "pp.runpp(network_option2)\n",
    "\n",
    "# Wyświetl straty mocy i obciążenie linii\n",
    "print(\"\\nWyniki po usunięciu linii:\")\n",
    "print(network_option2.res_line[['pl_mw', 'loading_percent']])\n",
    "\n",
    "\n",
    "#Porownanie wynikow\n",
    "\n",
    "# Porównaj straty w obu opcjach\n",
    "print(\"Straty mocy w Opcji 1:\", network_option1.res_line.pl_mw.sum(), \"MW\")\n",
    "print(\"Straty mocy w Opcji 2:\", network_option2.res_line.pl_mw.sum(), \"MW\")\n",
    "\n",
    "# Sprawdź obciążenie linii\n",
    "print(\"\\nMaksymalne obciążenie linii w Opcji 1:\", network_option1.res_line.loading_percent.max(), \"%\")\n",
    "print(\"Maksymalne obciążenie linii w Opcji 2:\", network_option2.res_line.loading_percent.max(), \"%\")"
   ]
  },
  {
   "cell_type": "code",
   "execution_count": null,
   "id": "2630eed4-1a00-4fdd-bbd2-5e9a54c0bd5f",
   "metadata": {},
   "outputs": [],
   "source": []
  },
  {
   "cell_type": "code",
   "execution_count": null,
   "id": "fa27902e-4f4e-46db-a95a-65953812ba63",
   "metadata": {},
   "outputs": [],
   "source": []
  },
  {
   "cell_type": "code",
   "execution_count": null,
   "id": "5984e7d8-1ee0-446d-b823-3eaab8654760",
   "metadata": {},
   "outputs": [],
   "source": []
  },
  {
   "cell_type": "code",
   "execution_count": null,
   "id": "1a1c5c51-b49b-4c65-a13a-046ba28016f1",
   "metadata": {},
   "outputs": [],
   "source": []
  },
  {
   "cell_type": "code",
   "execution_count": null,
   "id": "e3ef7e6e-80c3-4108-be0d-a41c84c8532d",
   "metadata": {},
   "outputs": [],
   "source": []
  },
  {
   "cell_type": "code",
   "execution_count": null,
   "id": "6b6a59f8-56d0-40d7-a8b2-c7f76a848b4c",
   "metadata": {},
   "outputs": [],
   "source": []
  },
  {
   "cell_type": "code",
   "execution_count": null,
   "id": "e68e4a4d-a040-4766-806f-6ea1fac3cf28",
   "metadata": {},
   "outputs": [],
   "source": []
  },
  {
   "cell_type": "code",
   "execution_count": null,
   "id": "011d5753-6e58-4a36-9b84-bc9a690c7149",
   "metadata": {},
   "outputs": [],
   "source": []
  },
  {
   "cell_type": "code",
   "execution_count": null,
   "id": "57f70376-b1d4-450c-a686-1a86309175d2",
   "metadata": {},
   "outputs": [],
   "source": []
  }
 ],
 "metadata": {
  "kernelspec": {
   "display_name": "Python 3",
   "language": "python",
   "name": "python3"
  },
  "language_info": {
   "codemirror_mode": {
    "name": "ipython",
    "version": 3
   },
   "file_extension": ".py",
   "mimetype": "text/x-python",
   "name": "python",
   "nbconvert_exporter": "python",
   "pygments_lexer": "ipython3",
   "version": "3.12.3"
  }
 },
 "nbformat": 4,
 "nbformat_minor": 5
}
