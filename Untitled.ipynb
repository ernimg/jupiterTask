{
 "cells": [
  {
   "cell_type": "code",
   "execution_count": 1,
   "id": "d2234203-d1f1-47f1-8908-fcc9b47c044e",
   "metadata": {},
   "outputs": [],
   "source": [
    "# import the desired packages\n",
    "import pandapower\n",
    "import pandapower.networks\n",
    "import pandapower.topology\n",
    "import pandapower.plotting\n",
    "import pandapower.converter\n",
    "import pandapower.estimation\n",
    "import pandapower as pp\n",
    "import copy"
   ]
  },
  {
   "cell_type": "code",
   "execution_count": 2,
   "id": "68b678f7-7d0a-467c-bd8d-38462a7ae463",
   "metadata": {},
   "outputs": [],
   "source": [
    "#create empty net\n",
    "net = pp.create_empty_network() "
   ]
  },
  {
   "cell_type": "code",
   "execution_count": 3,
   "id": "ed8e9aa1-be91-4d13-a21c-e5ffe43da499",
   "metadata": {},
   "outputs": [],
   "source": [
    "#create buses\n",
    "b1 = pp.create_bus(net, vn_kv=20., name=\"Bus 1\")\n",
    "b2 = pp.create_bus(net, vn_kv=0.4, name=\"Bus 2\")\n",
    "b3 = pp.create_bus(net, vn_kv=0.4, name=\"Bus 3\")"
   ]
  },
  {
   "cell_type": "code",
   "execution_count": 4,
   "id": "25f0e6a8-66bb-40ac-8ae3-4be917edd298",
   "metadata": {},
   "outputs": [],
   "source": [
    "#create bus elements\n",
    "pp.create_ext_grid(net, bus=b1, vm_pu=1.02, name=\"Grid Connection\")\n",
    "pp.create_load(net, bus=b3, p_mw=0.1, q_mvar=0.05, name=\"Load\");"
   ]
  },
  {
   "cell_type": "code",
   "execution_count": 5,
   "id": "42a8e4b7-4804-415d-a27f-3151309a7b1d",
   "metadata": {},
   "outputs": [],
   "source": [
    "# create branch elements\n",
    "pp.create_line(net, from_bus=b1, to_bus=b2, length_km=0.2, name=\"Line 1\", std_type=\"NAYY 4x150 SE\") \n",
    "pp.create_line(net, from_bus=b2, to_bus=b3, length_km=0.1, name=\"Line 2\", std_type=\"NAYY 4x150 SE\");\n"
   ]
  },
  {
   "cell_type": "code",
   "execution_count": 6,
   "id": "5682f172-b7f6-48a2-8b07-ee765bf28173",
   "metadata": {},
   "outputs": [
    {
     "data": {
      "text/plain": [
       "This pandapower network includes the following parameter tables:\n",
       "   - bus (3 elements)\n",
       "   - load (1 element)\n",
       "   - ext_grid (1 element)\n",
       "   - line (2 elements)"
      ]
     },
     "execution_count": 6,
     "metadata": {},
     "output_type": "execute_result"
    }
   ],
   "source": [
    "net"
   ]
  },
  {
   "cell_type": "code",
   "execution_count": 7,
   "id": "3eb54032-5796-4c65-a50a-8ea4a1817eeb",
   "metadata": {},
   "outputs": [
    {
     "data": {
      "text/html": [
       "<div>\n",
       "<style scoped>\n",
       "    .dataframe tbody tr th:only-of-type {\n",
       "        vertical-align: middle;\n",
       "    }\n",
       "\n",
       "    .dataframe tbody tr th {\n",
       "        vertical-align: top;\n",
       "    }\n",
       "\n",
       "    .dataframe thead th {\n",
       "        text-align: right;\n",
       "    }\n",
       "</style>\n",
       "<table border=\"1\" class=\"dataframe\">\n",
       "  <thead>\n",
       "    <tr style=\"text-align: right;\">\n",
       "      <th></th>\n",
       "      <th>name</th>\n",
       "      <th>vn_kv</th>\n",
       "      <th>type</th>\n",
       "      <th>zone</th>\n",
       "      <th>in_service</th>\n",
       "      <th>geo</th>\n",
       "    </tr>\n",
       "  </thead>\n",
       "  <tbody>\n",
       "    <tr>\n",
       "      <th>0</th>\n",
       "      <td>Bus 1</td>\n",
       "      <td>20.0</td>\n",
       "      <td>b</td>\n",
       "      <td>None</td>\n",
       "      <td>True</td>\n",
       "      <td>None</td>\n",
       "    </tr>\n",
       "    <tr>\n",
       "      <th>1</th>\n",
       "      <td>Bus 2</td>\n",
       "      <td>0.4</td>\n",
       "      <td>b</td>\n",
       "      <td>None</td>\n",
       "      <td>True</td>\n",
       "      <td>None</td>\n",
       "    </tr>\n",
       "    <tr>\n",
       "      <th>2</th>\n",
       "      <td>Bus 3</td>\n",
       "      <td>0.4</td>\n",
       "      <td>b</td>\n",
       "      <td>None</td>\n",
       "      <td>True</td>\n",
       "      <td>None</td>\n",
       "    </tr>\n",
       "  </tbody>\n",
       "</table>\n",
       "</div>"
      ],
      "text/plain": [
       "    name  vn_kv type  zone  in_service   geo\n",
       "0  Bus 1   20.0    b  None        True  None\n",
       "1  Bus 2    0.4    b  None        True  None\n",
       "2  Bus 3    0.4    b  None        True  None"
      ]
     },
     "execution_count": 7,
     "metadata": {},
     "output_type": "execute_result"
    }
   ],
   "source": [
    "net.bus "
   ]
  },
  {
   "cell_type": "code",
   "execution_count": 8,
   "id": "05b828e8-6cb5-496e-bf47-0f9378582e7a",
   "metadata": {},
   "outputs": [
    {
     "data": {
      "text/html": [
       "<div>\n",
       "<style scoped>\n",
       "    .dataframe tbody tr th:only-of-type {\n",
       "        vertical-align: middle;\n",
       "    }\n",
       "\n",
       "    .dataframe tbody tr th {\n",
       "        vertical-align: top;\n",
       "    }\n",
       "\n",
       "    .dataframe thead th {\n",
       "        text-align: right;\n",
       "    }\n",
       "</style>\n",
       "<table border=\"1\" class=\"dataframe\">\n",
       "  <thead>\n",
       "    <tr style=\"text-align: right;\">\n",
       "      <th></th>\n",
       "      <th>name</th>\n",
       "      <th>std_type</th>\n",
       "      <th>from_bus</th>\n",
       "      <th>to_bus</th>\n",
       "      <th>length_km</th>\n",
       "      <th>r_ohm_per_km</th>\n",
       "      <th>x_ohm_per_km</th>\n",
       "      <th>c_nf_per_km</th>\n",
       "      <th>g_us_per_km</th>\n",
       "      <th>max_i_ka</th>\n",
       "      <th>df</th>\n",
       "      <th>parallel</th>\n",
       "      <th>type</th>\n",
       "      <th>in_service</th>\n",
       "      <th>geo</th>\n",
       "    </tr>\n",
       "  </thead>\n",
       "  <tbody>\n",
       "    <tr>\n",
       "      <th>0</th>\n",
       "      <td>Line 1</td>\n",
       "      <td>NAYY 4x150 SE</td>\n",
       "      <td>0</td>\n",
       "      <td>1</td>\n",
       "      <td>0.2</td>\n",
       "      <td>0.208</td>\n",
       "      <td>0.08</td>\n",
       "      <td>261.0</td>\n",
       "      <td>0.0</td>\n",
       "      <td>0.27</td>\n",
       "      <td>1.0</td>\n",
       "      <td>1</td>\n",
       "      <td>cs</td>\n",
       "      <td>True</td>\n",
       "      <td>NaN</td>\n",
       "    </tr>\n",
       "    <tr>\n",
       "      <th>1</th>\n",
       "      <td>Line 2</td>\n",
       "      <td>NAYY 4x150 SE</td>\n",
       "      <td>1</td>\n",
       "      <td>2</td>\n",
       "      <td>0.1</td>\n",
       "      <td>0.208</td>\n",
       "      <td>0.08</td>\n",
       "      <td>261.0</td>\n",
       "      <td>0.0</td>\n",
       "      <td>0.27</td>\n",
       "      <td>1.0</td>\n",
       "      <td>1</td>\n",
       "      <td>cs</td>\n",
       "      <td>True</td>\n",
       "      <td>NaN</td>\n",
       "    </tr>\n",
       "  </tbody>\n",
       "</table>\n",
       "</div>"
      ],
      "text/plain": [
       "     name       std_type  from_bus  to_bus  length_km  r_ohm_per_km  \\\n",
       "0  Line 1  NAYY 4x150 SE         0       1        0.2         0.208   \n",
       "1  Line 2  NAYY 4x150 SE         1       2        0.1         0.208   \n",
       "\n",
       "   x_ohm_per_km  c_nf_per_km  g_us_per_km  max_i_ka   df  parallel type  \\\n",
       "0          0.08        261.0          0.0      0.27  1.0         1   cs   \n",
       "1          0.08        261.0          0.0      0.27  1.0         1   cs   \n",
       "\n",
       "   in_service  geo  \n",
       "0        True  NaN  \n",
       "1        True  NaN  "
      ]
     },
     "execution_count": 8,
     "metadata": {},
     "output_type": "execute_result"
    }
   ],
   "source": [
    "net.line"
   ]
  },
  {
   "cell_type": "code",
   "execution_count": 9,
   "id": "db758b69-2b74-443e-aea4-7308e1747d54",
   "metadata": {},
   "outputs": [],
   "source": [
    "pp.runpp(net)"
   ]
  },
  {
   "cell_type": "code",
   "execution_count": 10,
   "id": "6b191fc7-8c4d-4a29-8139-64ea2b072b89",
   "metadata": {},
   "outputs": [
    {
     "data": {
      "text/html": [
       "<div>\n",
       "<style scoped>\n",
       "    .dataframe tbody tr th:only-of-type {\n",
       "        vertical-align: middle;\n",
       "    }\n",
       "\n",
       "    .dataframe tbody tr th {\n",
       "        vertical-align: top;\n",
       "    }\n",
       "\n",
       "    .dataframe thead th {\n",
       "        text-align: right;\n",
       "    }\n",
       "</style>\n",
       "<table border=\"1\" class=\"dataframe\">\n",
       "  <thead>\n",
       "    <tr style=\"text-align: right;\">\n",
       "      <th></th>\n",
       "      <th>p_from_mw</th>\n",
       "      <th>q_from_mvar</th>\n",
       "      <th>p_to_mw</th>\n",
       "      <th>q_to_mvar</th>\n",
       "      <th>pl_mw</th>\n",
       "      <th>ql_mvar</th>\n",
       "    </tr>\n",
       "  </thead>\n",
       "  <tbody>\n",
       "    <tr>\n",
       "      <th>0</th>\n",
       "      <td>0.101612</td>\n",
       "      <td>0.043794</td>\n",
       "      <td>-0.10161</td>\n",
       "      <td>-0.050618</td>\n",
       "      <td>0.000001</td>\n",
       "      <td>-0.006824</td>\n",
       "    </tr>\n",
       "    <tr>\n",
       "      <th>1</th>\n",
       "      <td>0.101610</td>\n",
       "      <td>0.050618</td>\n",
       "      <td>-0.10000</td>\n",
       "      <td>-0.050000</td>\n",
       "      <td>0.001610</td>\n",
       "      <td>0.000618</td>\n",
       "    </tr>\n",
       "  </tbody>\n",
       "</table>\n",
       "</div>"
      ],
      "text/plain": [
       "   p_from_mw  q_from_mvar  p_to_mw  q_to_mvar     pl_mw   ql_mvar\n",
       "0   0.101612     0.043794 -0.10161  -0.050618  0.000001 -0.006824\n",
       "1   0.101610     0.050618 -0.10000  -0.050000  0.001610  0.000618"
      ]
     },
     "execution_count": 10,
     "metadata": {},
     "output_type": "execute_result"
    }
   ],
   "source": [
    "# show the power flow and losses in the lines\n",
    "net.res_line.iloc[:,0:6]"
   ]
  },
  {
   "cell_type": "code",
   "execution_count": 11,
   "id": "5b6dbfe9-bb50-44e0-8d71-731e232102ab",
   "metadata": {},
   "outputs": [
    {
     "name": "stdout",
     "output_type": "stream",
     "text": [
      "Straty mocy (pl_mw) dla Linii 2: 0.0016102817110104084\n"
     ]
    }
   ],
   "source": [
    "# ====================================================\n",
    "# Zadanie 1: Srawdzenie wartości lini 2\n",
    "# ====================================================\n",
    "# Zakładamy, że Linia 2 ma indeks 1 w tabeli net.res_line\n",
    "\n",
    "if len(net.res_line) > 1:\n",
    "    pl_line_2 = net.res_line[\"pl_mw\"].iloc[1]\n",
    "    print(\"Straty mocy (pl_mw) dla Linii 2:\", pl_line_2)\n",
    "else:\n",
    "    print(\"Linia 2 nie została poprawnie dodana do sieci.\")"
   ]
  },
  {
   "cell_type": "code",
   "execution_count": 18,
   "id": "95123c86-2515-477c-8753-64ba0826766c",
   "metadata": {},
   "outputs": [
    {
     "name": "stdout",
     "output_type": "stream",
     "text": [
      "wartość pomiędzy bus 2 a bus 3 \n",
      "1    0.016467\n",
      "Name: pl_mw, dtype: float64\n"
     ]
    }
   ],
   "source": [
    "# ====================================================\n",
    "# Zadanie 2: Rozbudowa sieci do konfiguracji 6-busowej\n",
    "# ====================================================\n",
    "\n",
    "# Wskazówka: \n",
    "# Aby to zrobić, dodaj pomarańczowy region do istniejącej sieci. \n",
    "# Do sieci należy dodać jeszcze dwie magistrale obciążeniowe (jedną 400 V i jedną 700 V) oraz jeszcze jedną magistralę generatora (20 kV). \n",
    "# Generator można dodać za pomocą pp.create_gen(). \n",
    "# Nowe obciążenia są identyczne z obciążeniem na magistrali 3, z tą różnicą, że obciążenie 6 ma o połowę mniejsze zużycie energii (p_mw). \n",
    "# Generator ma p_mw mocy wyjściowej 0,2 MW i vm_pu napięcia 1,0 pu. Nie zapomnij podłączyć nowych autobusów za pomocą. \n",
    "# Uruchom ponownie przepływ mocy, wykonując polecenie runpp.\n",
    "\n",
    "\n",
    "#task2 \n",
    "\n",
    "# Dodaj nowe busy\n",
    "b4 = pp.create_bus(net, vn_kv=20.0, name=\"Bus 4\")\n",
    "b5 = pp.create_bus(net, vn_kv=0.7, name=\"Bus 5\")\n",
    "b6 = pp.create_bus(net, vn_kv=0.4, name=\"Bus 6\")\n",
    "\n",
    "# Dodaj nowy generator\n",
    "pp.create_gen(net, bus=b4, p_mw=0.2, vm_pu=1.0, name=\"Generator 2\")\n",
    "\n",
    "# Dodaj nowe obciążenia\n",
    "pp.create_load(net, bus=b5, p_mw=0.1, q_mvar=0.05, name=\"Load 2\")\n",
    "pp.create_load(net, bus=b6, p_mw=0.05, q_mvar=0.025, name=\"Load 3\")\n",
    "\n",
    "# Dodaj nowe linie\n",
    "\n",
    "pp.create_line(net, from_bus=b4, to_bus=b1, length_km=1, name=\"Line 3\", std_type=\"NAYY 4x150 SE\")\n",
    "pp.create_line(net, from_bus=b4, to_bus=b5, length_km=0.5, name=\"Line 4\", std_type=\"NAYY 4x150 SE\")\n",
    "pp.create_line(net, from_bus=b2, to_bus=b5, length_km=1, name=\"Line 5\", std_type=\"NAYY 4x150 SE\")\n",
    "pp.create_line(net, from_bus=b3, to_bus=b6, length_km=0.5, name=\"Line 6\", std_type=\"NAYY 4x150 SE\")\n",
    "# pp.create_line(net, from_bus=b2, to_bus=b5, length_km=1, name=\"Line 3\", std_type=\"NAYY 4x150 SE\")\n",
    "# pp.create_line(net, from_bus=b5, to_bus=b6, length_km=1.6, name=\"Line 4\", std_type=\"NAYY 4x150 SE\")\n",
    "# pp.create_line(net, from_bus=b4, to_bus=b1, length_km=1, name=\"Line 5\", std_type=\"NAYY 4x150 SE\")\n",
    "\n",
    "# print(net.bus)\n",
    "# print(net.line)\n",
    "# print(net)\n",
    "# Wyszukuje indeksy lini pomiędzy bus2 a bus3\n",
    "line_index = net.line[(net.line.from_bus == b2) & (net.line.to_bus == b3)].index\n",
    "# print(\"index to\")\n",
    "# print(line_index)\n",
    "\n",
    "\n",
    "# Uruchom symulację przepływu mocy\n",
    "pp.runpp(net)\n",
    "\n",
    "# Wyświetl wyniki\n",
    "# print(net.res_line.iloc[:, 0:6])\n",
    "#sprawdzenie pomoedzy bus 2 a bus 3\n",
    "print(\"wartość pomiędzy bus 2 a bus 3 \")\n",
    "print(net.res_line.loc[line_index, 'pl_mw'])"
   ]
  },
  {
   "cell_type": "code",
   "execution_count": 13,
   "id": "48d78659-a0e9-4ad1-a642-30064c25d311",
   "metadata": {},
   "outputs": [
    {
     "name": "stdout",
     "output_type": "stream",
     "text": [
      "Tabela generatorów:\n",
      "          name  bus  p_mw  vm_pu  sn_mva  min_q_mvar  max_q_mvar  scaling  \\\n",
      "0  Generator 2    3   0.2    1.0     NaN         NaN         NaN      1.0   \n",
      "\n",
      "   slack  in_service  slack_weight  type  \n",
      "0  False        True           0.0  None  \n",
      "\n",
      "Wyniki po zmianie napięcia generatora opcja 1:\n",
      "          pl_mw  loading_percent\n",
      "0  2.979396e-06        91.262977\n",
      "1  3.788152e-03        91.255363\n",
      "2  3.874262e-05         3.085941\n",
      "3  2.928258e-06        33.478152\n",
      "4  1.543288e-08         0.054835\n",
      "5  2.223543e-03        31.267424\n"
     ]
    }
   ],
   "source": [
    "# ====================================================\n",
    "# Zadanie 3: Optymalizacja sieci – Porównanie dwóch opcji\n",
    "# ====================================================\n",
    "\n",
    "#opcja1\n",
    "\n",
    "# Kopiuje sieć\n",
    "network_option1 = copy.deepcopy(net)\n",
    "\n",
    "# Sprawdź tabelę generatorów, aby znaleźć indeks generatora na szynie 4\n",
    "# (domyślnie generator z Zadania 2 ma indeks 0)\n",
    "print(\"Tabela generatorów:\")\n",
    "print(network_option1.gen)\n",
    "\n",
    "# Zmień napięcie generatora na 1.02 pu (dopasowanie do sieci zewnętrznej)\n",
    "network_option1.gen.at[0, 'vm_pu'] = 1.02  # 0 to indeks generatora\n",
    "\n",
    "# Przeprowadź symulację przepływu mocy\n",
    "pp.runpp(network_option1)\n",
    "\n",
    "# Wyświetl straty mocy i obciążenie linii\n",
    "print(\"\\nWyniki po zmianie napięcia generatora opcja 1:\")\n",
    "print(network_option1.res_line[['pl_mw', 'loading_percent']])\n"
   ]
  },
  {
   "cell_type": "code",
   "execution_count": 14,
   "id": "2630eed4-1a00-4fdd-bbd2-5e9a54c0bd5f",
   "metadata": {},
   "outputs": [
    {
     "name": "stdout",
     "output_type": "stream",
     "text": [
      "Tabela linii:\n",
      "   from_bus  to_bus    name\n",
      "0         0       1  Line 1\n",
      "1         1       2  Line 2\n",
      "2         3       0  Line 3\n",
      "3         3       4  Line 4\n",
      "4         1       4  Line 5\n",
      "5         2       5  Line 6\n",
      "\n",
      "Wyniki po usunięciu linii opcja 2:\n",
      "      pl_mw  loading_percent\n",
      "0  0.000003        91.255049\n",
      "1  0.003788        91.255364\n",
      "2  4.629184      1008.954635\n",
      "3  0.000003        34.154323\n",
      "5  0.002224        31.267425\n"
     ]
    }
   ],
   "source": [
    "#opcja2\n",
    "\n",
    "# Kopiuje sieć\n",
    "network_option2 = copy.deepcopy(net)\n",
    "\n",
    "# Sprawdź tabelę linii, aby znaleźć indeks linii między szyną 1 a 4\n",
    "# Szyna 1 ma nazwę \"Bus 1\", szyna 4 – \"Bus 4\"\n",
    "print(\"Tabela linii:\")\n",
    "print(network_option2.line[['from_bus', 'to_bus', 'name']])\n",
    "\n",
    "# Usuń linię o indeksie 4 (przykładowo, jeśli nazywa się \"Line 5\")\n",
    "pp.drop_lines(network_option2, [4])  # 4 to indeks linii\n",
    "\n",
    "# Przeprowadź symulację przepływu mocy\n",
    "pp.runpp(network_option2)\n",
    "\n",
    "# Wyświetl straty mocy i obciążenie linii\n",
    "print(\"\\nWyniki po usunięciu linii opcja 2:\")\n",
    "print(network_option2.res_line[['pl_mw', 'loading_percent']])"
   ]
  },
  {
   "cell_type": "code",
   "execution_count": 15,
   "id": "fa27902e-4f4e-46db-a95a-65953812ba63",
   "metadata": {},
   "outputs": [
    {
     "name": "stdout",
     "output_type": "stream",
     "text": [
      "Straty mocy w Opcji 1: 0.0060563609767886745 MW\n",
      "Straty mocy w Opcji 2: 4.635201723496297 MW\n",
      "\n",
      "Maksymalne obciążenie linii w Opcji 1: 91.26297663942998 %\n",
      "Maksymalne obciążenie linii w Opcji 2: 1008.9546348840192 %\n"
     ]
    }
   ],
   "source": [
    "\n",
    "#Porownanie wynikow\n",
    "\n",
    "# Porównaj straty w obu opcjach\n",
    "print(\"Straty mocy w Opcji 1:\", network_option1.res_line.pl_mw.sum(), \"MW\")\n",
    "print(\"Straty mocy w Opcji 2:\", network_option2.res_line.pl_mw.sum(), \"MW\")\n",
    "\n",
    "# Sprawdź obciążenie linii\n",
    "print(\"\\nMaksymalne obciążenie linii w Opcji 1:\", network_option1.res_line.loading_percent.max(), \"%\")\n",
    "print(\"Maksymalne obciążenie linii w Opcji 2:\", network_option2.res_line.loading_percent.max(), \"%\")"
   ]
  },
  {
   "cell_type": "code",
   "execution_count": null,
   "id": "5984e7d8-1ee0-446d-b823-3eaab8654760",
   "metadata": {},
   "outputs": [],
   "source": []
  },
  {
   "cell_type": "code",
   "execution_count": null,
   "id": "1a1c5c51-b49b-4c65-a13a-046ba28016f1",
   "metadata": {},
   "outputs": [],
   "source": []
  },
  {
   "cell_type": "code",
   "execution_count": null,
   "id": "e3ef7e6e-80c3-4108-be0d-a41c84c8532d",
   "metadata": {},
   "outputs": [],
   "source": []
  },
  {
   "cell_type": "code",
   "execution_count": null,
   "id": "6b6a59f8-56d0-40d7-a8b2-c7f76a848b4c",
   "metadata": {},
   "outputs": [],
   "source": []
  },
  {
   "cell_type": "code",
   "execution_count": null,
   "id": "e68e4a4d-a040-4766-806f-6ea1fac3cf28",
   "metadata": {},
   "outputs": [],
   "source": []
  },
  {
   "cell_type": "code",
   "execution_count": null,
   "id": "011d5753-6e58-4a36-9b84-bc9a690c7149",
   "metadata": {},
   "outputs": [],
   "source": []
  },
  {
   "cell_type": "code",
   "execution_count": null,
   "id": "57f70376-b1d4-450c-a686-1a86309175d2",
   "metadata": {},
   "outputs": [],
   "source": []
  }
 ],
 "metadata": {
  "kernelspec": {
   "display_name": "Python 3",
   "language": "python",
   "name": "python3"
  },
  "language_info": {
   "codemirror_mode": {
    "name": "ipython",
    "version": 3
   },
   "file_extension": ".py",
   "mimetype": "text/x-python",
   "name": "python",
   "nbconvert_exporter": "python",
   "pygments_lexer": "ipython3",
   "version": "3.12.3"
  }
 },
 "nbformat": 4,
 "nbformat_minor": 5
}
